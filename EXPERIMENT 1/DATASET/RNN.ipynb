{
 "cells": [
  {
   "cell_type": "code",
   "execution_count": 1,
   "metadata": {},
   "outputs": [
    {
     "name": "stderr",
     "output_type": "stream",
     "text": [
      "C:\\Users\\Manasa\\Anaconda3\\lib\\site-packages\\h5py\\__init__.py:36: FutureWarning: Conversion of the second argument of issubdtype from `float` to `np.floating` is deprecated. In future, it will be treated as `np.float64 == np.dtype(float).type`.\n",
      "  from ._conv import register_converters as _register_converters\n",
      "Using TensorFlow backend.\n"
     ]
    }
   ],
   "source": [
    "import numpy as np\n",
    "import keras\n",
    "import matplotlib.pylab as plt\n",
    "import pandas as pd\n",
    "import string\n",
    "import pydot\n",
    "from keras.preprocessing.text import Tokenizer\n",
    "from keras.preprocessing.sequence import pad_sequences\n",
    "from keras.layers import Dense, Flatten, LSTM, Dropout, Activation, BatchNormalization, Bidirectional, GlobalMaxPool1D\n",
    "from keras.layers.embeddings import Embedding\n",
    "from keras.layers.convolutional import Conv1D,MaxPooling1D\n",
    "from keras.models import Sequential\n",
    "from keras.regularizers import l2\n",
    "from sklearn.model_selection import train_test_split\n",
    "#from create_frame import alldata,boolarr\n",
    "from sklearn.metrics import classification_report, confusion_matrix\n",
    "from keras import backend as K\n",
    "from keras.utils import plot_model"
   ]
  },
  {
   "cell_type": "code",
   "execution_count": 2,
   "metadata": {},
   "outputs": [],
   "source": [
    "transcripts=pd.read_json('NETFLIX_EARRNINGS_CALL_TRANSCRIPT_Q3_2018.json')\n",
    "#data = pd.read_json('NETFLIX_Q3_2018_EARNINGS_CALL_TRANSCRIPT_FANG.json')\n",
    "data = pd.DataFrame.sort_index(transcripts)\n",
    "x = data.text\n",
    "#x = list(x)\n",
    "y = data.Sentiments\n",
    "y = y.values"
   ]
  },
  {
   "cell_type": "code",
   "execution_count": 3,
   "metadata": {},
   "outputs": [],
   "source": [
    "#X, y = (data['text'].values, data['Sentiments'].values)"
   ]
  },
  {
   "cell_type": "code",
   "execution_count": 4,
   "metadata": {},
   "outputs": [],
   "source": [
    "Y = y"
   ]
  },
  {
   "cell_type": "code",
   "execution_count": 5,
   "metadata": {},
   "outputs": [],
   "source": [
    "for n,i in enumerate(Y):\n",
    "    if i == 'Neutral' :\n",
    "        Y[n] = 0\n",
    "    elif i == 'Positive':\n",
    "        Y[n] = 1\n",
    "    else:\n",
    "        Y[n] = -1"
   ]
  },
  {
   "cell_type": "code",
   "execution_count": 6,
   "metadata": {},
   "outputs": [
    {
     "data": {
      "text/plain": [
       "array([0, 0, 0, 0, 0, 0, 0, 0, 0, 0, 1, 0, 0, 0, 0, 1, 0, 1, 0, -1, 0, 0,\n",
       "       0, 0, 0, 1, 0, 1, 1, 0, 1, 0, 1, 0, 1, 1, 0, 0, 0, 0, 1, 0, 1, 0,\n",
       "       1, 1, 0, 1, 1, 0, 0, 0, 1, 0, 1, 0, -1, 0, -1, 0, 1, 0, 1, 0, 1, 0,\n",
       "       -1, 0, 1, 0, 1, 1, -1, 0, 0, 0, -1, 1, 0, 0, 0, 1, 1, 1, 0, 0, 0,\n",
       "       1, 0, 1, 1, 0, 1, 0, 1, 1, 0, 1, 0, -1, 1, 0, 0, 0, 1, 1, 1, 0, -1,\n",
       "       0, 1, 0, 1, 0, 1, 0, 0, 0, -1, 0, 0, 0, -1, 0, -1, 0, -1, 0, 1, 0,\n",
       "       1, 1, 1, 1, 0, 1, 0, 0, 1, 1, 1, 1, 1, 1, 0, 0, 0, 1, 1, 0, 0, 0,\n",
       "       1, 1, 0, 0, 0, 1, 1, 0, 0, 0, 0, 1, 1, 0, 0, 0, 0, 0, -1, 1, 1, 0,\n",
       "       0, 1], dtype=object)"
      ]
     },
     "execution_count": 6,
     "metadata": {},
     "output_type": "execute_result"
    }
   ],
   "source": [
    "Y"
   ]
  },
  {
   "cell_type": "code",
   "execution_count": 10,
   "metadata": {},
   "outputs": [],
   "source": [
    "from keras.preprocessing.text import Tokenizer\n",
    "from keras.preprocessing.sequence import pad_sequences\n",
    "tk = Tokenizer(lower = True)\n",
    "tk.fit_on_texts(x)\n",
    "X_seq = tk.texts_to_sequences()\n",
    "X_pad = pad_sequences(X_seq, maxlen=100, padding='post')"
   ]
  },
  {
   "cell_type": "code",
   "execution_count": 12,
   "metadata": {},
   "outputs": [],
   "source": [
    "from sklearn.model_selection import train_test_split\n",
    "X_train, X_test, y_train, y_test = train_test_split(X_pad, y, test_size = 0.2, random_state = 1)"
   ]
  },
  {
   "cell_type": "code",
   "execution_count": 14,
   "metadata": {},
   "outputs": [],
   "source": [
    "batch_size = 64\n",
    "X_train1 = X_train[batch_size:]\n",
    "y_train1 = y_train[batch_size:]\n",
    "X_valid = X_train[:batch_size]\n",
    "y_valid = y_train[:batch_size]"
   ]
  },
  {
   "cell_type": "code",
   "execution_count": 45,
   "metadata": {},
   "outputs": [],
   "source": [
    "from keras.models import Sequential\n",
    "from keras.layers import Embedding, LSTM, Dense, Dropout\n",
    "vocabulary_size = len(tk.word_counts.keys())+1\n",
    "max_words = 100\n",
    "embedding_size = 32\n",
    "model = Sequential()\n",
    "\n",
    "model.add(Embedding(vocabulary_size, embedding_size, input_length=max_words))\n",
    "#model.add(LSTM(200))\n",
    "model.add(LSTM(256,return_sequences=True))\n",
    "model.add(Dropout(0.5))\n",
    "model.add(LSTM(128,return_sequences=True))\n",
    "model.add(Dropout(0.2))\n",
    "model.add(LSTM(64))\n",
    "model.add(Dropout(0.2))\n",
    "model.add(Dense(1, activation='sigmoid'))\n",
    "\n",
    "\n",
    "\n",
    "#model.add(LSTM(200))\n",
    "\n",
    "\n",
    "\n",
    "model.compile(loss='binary_crossentropy', optimizer='rmsprop', metrics=['accuracy'])"
   ]
  },
  {
   "cell_type": "code",
   "execution_count": 40,
   "metadata": {},
   "outputs": [
    {
     "data": {
      "text/plain": [
       "1307"
      ]
     },
     "execution_count": 40,
     "metadata": {},
     "output_type": "execute_result"
    }
   ],
   "source": [
    "vocabulary_size"
   ]
  },
  {
   "cell_type": "code",
   "execution_count": 46,
   "metadata": {},
   "outputs": [
    {
     "name": "stdout",
     "output_type": "stream",
     "text": [
      "Epoch 1/100\n",
      "76/76 [==============================] - 4s 58ms/step - loss: 0.6852 - acc: 0.5395\n",
      "Epoch 2/100\n",
      "76/76 [==============================] - 1s 16ms/step - loss: 0.8862 - acc: 0.5526\n",
      "Epoch 3/100\n",
      "76/76 [==============================] - 1s 17ms/step - loss: 0.6831 - acc: 0.5526\n",
      "Epoch 4/100\n",
      "76/76 [==============================] - 1s 16ms/step - loss: 0.6755 - acc: 0.5526\n",
      "Epoch 5/100\n",
      "76/76 [==============================] - 2s 20ms/step - loss: 0.6594 - acc: 0.5526\n",
      "Epoch 6/100\n",
      "76/76 [==============================] - 1s 17ms/step - loss: 0.6399 - acc: 0.5526\n",
      "Epoch 7/100\n",
      "76/76 [==============================] - 1s 16ms/step - loss: 0.6400 - acc: 0.5921\n",
      "Epoch 8/100\n",
      "76/76 [==============================] - 1s 16ms/step - loss: 0.6659 - acc: 0.6316\n",
      "Epoch 9/100\n",
      "76/76 [==============================] - 1s 16ms/step - loss: 0.6487 - acc: 0.6579\n",
      "Epoch 10/100\n",
      "76/76 [==============================] - 1s 16ms/step - loss: 0.5435 - acc: 0.6974\n",
      "Epoch 11/100\n",
      "76/76 [==============================] - 1s 16ms/step - loss: 1.2432 - acc: 0.4868\n",
      "Epoch 12/100\n",
      "76/76 [==============================] - 1s 17ms/step - loss: 0.4827 - acc: 0.5921\n",
      "Epoch 13/100\n",
      "76/76 [==============================] - 1s 16ms/step - loss: 0.3627 - acc: 0.8947\n",
      "Epoch 14/100\n",
      "76/76 [==============================] - 1s 17ms/step - loss: 0.3305 - acc: 0.9079\n",
      "Epoch 15/100\n",
      "76/76 [==============================] - 1s 16ms/step - loss: 0.3009 - acc: 0.9079\n",
      "Epoch 16/100\n",
      "76/76 [==============================] - 1s 16ms/step - loss: 0.3149 - acc: 0.9079\n",
      "Epoch 17/100\n",
      "76/76 [==============================] - 1s 18ms/step - loss: 0.3093 - acc: 0.9079\n",
      "Epoch 18/100\n",
      "76/76 [==============================] - 1s 18ms/step - loss: 0.2821 - acc: 0.9079\n",
      "Epoch 19/100\n",
      "76/76 [==============================] - 2s 20ms/step - loss: 0.3027 - acc: 0.9079\n",
      "Epoch 20/100\n",
      "76/76 [==============================] - 1s 18ms/step - loss: 0.2912 - acc: 0.9079\n",
      "Epoch 21/100\n",
      "76/76 [==============================] - 1s 18ms/step - loss: 0.2922 - acc: 0.9079\n",
      "Epoch 22/100\n",
      "76/76 [==============================] - 1s 18ms/step - loss: 0.2986 - acc: 0.9079\n",
      "Epoch 23/100\n",
      "76/76 [==============================] - 1s 18ms/step - loss: 0.2722 - acc: 0.9079\n",
      "Epoch 24/100\n",
      "76/76 [==============================] - 2s 21ms/step - loss: 0.3070 - acc: 0.9079\n",
      "Epoch 25/100\n",
      "76/76 [==============================] - 2s 21ms/step - loss: 0.2861 - acc: 0.9079\n",
      "Epoch 26/100\n",
      "76/76 [==============================] - 1s 19ms/step - loss: 0.2742 - acc: 0.9079\n",
      "Epoch 27/100\n",
      "76/76 [==============================] - 2s 21ms/step - loss: 0.2774 - acc: 0.9079\n",
      "Epoch 28/100\n",
      "76/76 [==============================] - 2s 20ms/step - loss: 0.2777 - acc: 0.9079\n",
      "Epoch 29/100\n",
      "76/76 [==============================] - 1s 17ms/step - loss: 0.2694 - acc: 0.9079\n",
      "Epoch 30/100\n",
      "76/76 [==============================] - 1s 18ms/step - loss: 0.2896 - acc: 0.9079\n",
      "Epoch 31/100\n",
      "76/76 [==============================] - 1s 17ms/step - loss: 0.2854 - acc: 0.9079\n",
      "Epoch 32/100\n",
      "76/76 [==============================] - 1s 18ms/step - loss: 0.2909 - acc: 0.9079\n",
      "Epoch 33/100\n",
      "76/76 [==============================] - 1s 18ms/step - loss: 0.2788 - acc: 0.9079\n",
      "Epoch 34/100\n",
      "76/76 [==============================] - 1s 17ms/step - loss: 0.2826 - acc: 0.9079\n",
      "Epoch 35/100\n",
      "76/76 [==============================] - 1s 17ms/step - loss: 0.2913 - acc: 0.9079\n",
      "Epoch 36/100\n",
      "76/76 [==============================] - 2s 21ms/step - loss: 0.2829 - acc: 0.9079\n",
      "Epoch 37/100\n",
      "76/76 [==============================] - 1s 17ms/step - loss: 0.2820 - acc: 0.9079\n",
      "Epoch 38/100\n",
      "76/76 [==============================] - 1s 17ms/step - loss: 0.2998 - acc: 0.9079\n",
      "Epoch 39/100\n",
      "76/76 [==============================] - 1s 16ms/step - loss: 0.3598 - acc: 0.8947\n",
      "Epoch 40/100\n",
      "76/76 [==============================] - 1s 16ms/step - loss: 0.2938 - acc: 0.9079\n",
      "Epoch 41/100\n",
      "76/76 [==============================] - 1s 16ms/step - loss: 0.2691 - acc: 0.9079\n",
      "Epoch 42/100\n",
      "76/76 [==============================] - 1s 16ms/step - loss: 0.2880 - acc: 0.9079\n",
      "Epoch 43/100\n",
      "76/76 [==============================] - 1s 16ms/step - loss: 0.8810 - acc: 0.7105\n",
      "Epoch 44/100\n",
      "76/76 [==============================] - 1s 16ms/step - loss: 0.3049 - acc: 0.8947\n",
      "Epoch 45/100\n",
      "76/76 [==============================] - 1s 16ms/step - loss: 0.3068 - acc: 0.8947\n",
      "Epoch 46/100\n",
      "76/76 [==============================] - 1s 16ms/step - loss: 0.2966 - acc: 0.8947\n",
      "Epoch 47/100\n",
      "76/76 [==============================] - 1s 16ms/step - loss: 0.3101 - acc: 0.8947\n",
      "Epoch 48/100\n",
      "76/76 [==============================] - 1s 16ms/step - loss: 0.3101 - acc: 0.8947\n",
      "Epoch 49/100\n",
      "76/76 [==============================] - 1s 16ms/step - loss: 0.3008 - acc: 0.8947\n",
      "Epoch 50/100\n",
      "76/76 [==============================] - 1s 16ms/step - loss: 0.3025 - acc: 0.8947\n",
      "Epoch 51/100\n",
      "76/76 [==============================] - 1s 17ms/step - loss: 0.3139 - acc: 0.8947\n",
      "Epoch 52/100\n",
      "76/76 [==============================] - 1s 17ms/step - loss: 0.3083 - acc: 0.8947\n",
      "Epoch 53/100\n",
      "76/76 [==============================] - 1s 19ms/step - loss: 0.3078 - acc: 0.8947\n",
      "Epoch 54/100\n",
      "76/76 [==============================] - 1s 19ms/step - loss: 0.3149 - acc: 0.8947\n",
      "Epoch 55/100\n",
      "76/76 [==============================] - 1s 19ms/step - loss: 0.3026 - acc: 0.8947\n",
      "Epoch 56/100\n",
      "76/76 [==============================] - 1s 17ms/step - loss: 0.3075 - acc: 0.8947\n",
      "Epoch 57/100\n",
      "76/76 [==============================] - 1s 16ms/step - loss: 0.2998 - acc: 0.8947\n",
      "Epoch 58/100\n",
      "76/76 [==============================] - 1s 16ms/step - loss: 0.2896 - acc: 0.8947\n",
      "Epoch 59/100\n",
      "76/76 [==============================] - 1s 16ms/step - loss: 0.3051 - acc: 0.8947\n",
      "Epoch 60/100\n",
      "76/76 [==============================] - 1s 16ms/step - loss: 0.3052 - acc: 0.8947\n",
      "Epoch 61/100\n",
      "76/76 [==============================] - 1s 17ms/step - loss: 0.3085 - acc: 0.8947\n",
      "Epoch 62/100\n",
      "76/76 [==============================] - 1s 17ms/step - loss: 0.2953 - acc: 0.8947\n",
      "Epoch 63/100\n",
      "76/76 [==============================] - 1s 16ms/step - loss: 0.3034 - acc: 0.8947\n",
      "Epoch 64/100\n",
      "76/76 [==============================] - 1s 17ms/step - loss: 0.2920 - acc: 0.8947\n",
      "Epoch 65/100\n",
      "76/76 [==============================] - 1s 16ms/step - loss: 0.2986 - acc: 0.8947\n",
      "Epoch 66/100\n",
      "76/76 [==============================] - 1s 17ms/step - loss: 0.2954 - acc: 0.8947\n",
      "Epoch 67/100\n",
      "76/76 [==============================] - 1s 17ms/step - loss: 0.3038 - acc: 0.8947\n",
      "Epoch 68/100\n",
      "76/76 [==============================] - 1s 16ms/step - loss: 0.3111 - acc: 0.8947\n",
      "Epoch 69/100\n",
      "76/76 [==============================] - 1s 17ms/step - loss: 0.3144 - acc: 0.8947\n",
      "Epoch 70/100\n",
      "76/76 [==============================] - 1s 16ms/step - loss: 0.3089 - acc: 0.8947\n",
      "Epoch 71/100\n",
      "76/76 [==============================] - 1s 16ms/step - loss: 0.3005 - acc: 0.8947\n",
      "Epoch 72/100\n",
      "76/76 [==============================] - 1s 16ms/step - loss: 0.3101 - acc: 0.8947\n",
      "Epoch 73/100\n",
      "76/76 [==============================] - 1s 16ms/step - loss: 0.2881 - acc: 0.8947\n",
      "Epoch 74/100\n",
      "76/76 [==============================] - 1s 16ms/step - loss: 0.3004 - acc: 0.8947\n",
      "Epoch 75/100\n",
      "76/76 [==============================] - 1s 18ms/step - loss: 0.3005 - acc: 0.8947\n",
      "Epoch 76/100\n",
      "76/76 [==============================] - 1s 17ms/step - loss: 0.3023 - acc: 0.8947\n",
      "Epoch 77/100\n",
      "76/76 [==============================] - 1s 17ms/step - loss: 0.2944 - acc: 0.8947\n",
      "Epoch 78/100\n",
      "76/76 [==============================] - 1s 18ms/step - loss: 0.2866 - acc: 0.8947\n",
      "Epoch 79/100\n",
      "76/76 [==============================] - 1s 19ms/step - loss: 0.3102 - acc: 0.8947\n",
      "Epoch 80/100\n",
      "76/76 [==============================] - 2s 21ms/step - loss: 0.3056 - acc: 0.8947\n",
      "Epoch 81/100\n",
      "76/76 [==============================] - 2s 21ms/step - loss: 0.3033 - acc: 0.8947\n",
      "Epoch 82/100\n",
      "76/76 [==============================] - 1s 19ms/step - loss: 0.3006 - acc: 0.8947\n",
      "Epoch 83/100\n",
      "76/76 [==============================] - 2s 20ms/step - loss: 0.3152 - acc: 0.8947\n",
      "Epoch 84/100\n",
      "76/76 [==============================] - 2s 22ms/step - loss: 0.3020 - acc: 0.8947\n",
      "Epoch 85/100\n",
      "76/76 [==============================] - 2s 21ms/step - loss: 0.3016 - acc: 0.8947\n",
      "Epoch 86/100\n"
     ]
    },
    {
     "name": "stdout",
     "output_type": "stream",
     "text": [
      "76/76 [==============================] - 1s 19ms/step - loss: 0.3048 - acc: 0.8947\n",
      "Epoch 87/100\n",
      "76/76 [==============================] - 1s 18ms/step - loss: 0.2999 - acc: 0.8947\n",
      "Epoch 88/100\n",
      "76/76 [==============================] - 1s 17ms/step - loss: 0.3134 - acc: 0.8947\n",
      "Epoch 89/100\n",
      "76/76 [==============================] - 1s 19ms/step - loss: 0.2977 - acc: 0.8947\n",
      "Epoch 90/100\n",
      "76/76 [==============================] - 1s 17ms/step - loss: 0.2868 - acc: 0.8947\n",
      "Epoch 91/100\n",
      "76/76 [==============================] - 1s 17ms/step - loss: 0.2791 - acc: 0.8947\n",
      "Epoch 92/100\n",
      "76/76 [==============================] - 1s 17ms/step - loss: 0.3033 - acc: 0.8947\n",
      "Epoch 93/100\n",
      "76/76 [==============================] - 1s 16ms/step - loss: 0.2942 - acc: 0.8947\n",
      "Epoch 94/100\n",
      "76/76 [==============================] - 1s 17ms/step - loss: 0.3008 - acc: 0.8947\n",
      "Epoch 95/100\n",
      "76/76 [==============================] - 1s 17ms/step - loss: 0.2988 - acc: 0.8947\n",
      "Epoch 96/100\n",
      "76/76 [==============================] - 1s 17ms/step - loss: 0.2870 - acc: 0.8947\n",
      "Epoch 97/100\n",
      "76/76 [==============================] - 1s 17ms/step - loss: 0.2925 - acc: 0.8947\n",
      "Epoch 98/100\n",
      "76/76 [==============================] - 1s 18ms/step - loss: 0.2938 - acc: 0.8947\n",
      "Epoch 99/100\n",
      "76/76 [==============================] - 1s 16ms/step - loss: 0.2856 - acc: 0.8947\n",
      "Epoch 100/100\n",
      "76/76 [==============================] - 1s 17ms/step - loss: 0.3103 - acc: 0.8947\n",
      "36/36 [==============================] - 1s 32ms/step\n",
      "[0.5468089481194814, 0.7222222222222222]\n"
     ]
    }
   ],
   "source": [
    "\n",
    "epochs=100\n",
    "\n",
    "model.fit(X_train1, y_train1, epochs=epochs, batch_size=batch_size, shuffle=True)\n",
    "scores = model.evaluate(X_test, y_test)\n",
    "print(scores)"
   ]
  },
  {
   "cell_type": "code",
   "execution_count": 47,
   "metadata": {},
   "outputs": [],
   "source": [
    "#Confusion Matrix:\n",
    "pred_test=model.predict(X_test)    "
   ]
  },
  {
   "cell_type": "code",
   "execution_count": 50,
   "metadata": {},
   "outputs": [],
   "source": [
    "test_cm=np.int8(y_test)\n",
    "pred_cm=np.int8(pred_test.round())"
   ]
  },
  {
   "cell_type": "code",
   "execution_count": 51,
   "metadata": {},
   "outputs": [
    {
     "data": {
      "text/plain": [
       "array([[ 0,  0,  4],\n",
       "       [ 0, 16,  6],\n",
       "       [ 0,  0, 10]], dtype=int64)"
      ]
     },
     "execution_count": 51,
     "metadata": {},
     "output_type": "execute_result"
    }
   ],
   "source": [
    "from sklearn.metrics import  confusion_matrix\n",
    "cm=confusion_matrix(test_cm,pred_cm)\n",
    "cm"
   ]
  },
  {
   "cell_type": "code",
   "execution_count": 54,
   "metadata": {},
   "outputs": [],
   "source": [
    "#Training data confusion matrix\n",
    "pred_train=model.predict(X_train)   \n",
    "\n"
   ]
  },
  {
   "cell_type": "code",
   "execution_count": 56,
   "metadata": {},
   "outputs": [],
   "source": [
    "traint_cm=np.int8(y_train)\n",
    "pred_train_cm=np.int8(pred_train.round())"
   ]
  },
  {
   "cell_type": "code",
   "execution_count": 57,
   "metadata": {},
   "outputs": [
    {
     "data": {
      "text/plain": [
       "array([[ 0,  0,  9],\n",
       "       [ 0, 61, 15],\n",
       "       [ 0,  0, 55]], dtype=int64)"
      ]
     },
     "execution_count": 57,
     "metadata": {},
     "output_type": "execute_result"
    }
   ],
   "source": [
    "cm_t=confusion_matrix(traint_cm,pred_train_cm)\n",
    "cm_t"
   ]
  }
 ],
 "metadata": {
  "kernelspec": {
   "display_name": "Python 3",
   "language": "python",
   "name": "python3"
  },
  "language_info": {
   "codemirror_mode": {
    "name": "ipython",
    "version": 3
   },
   "file_extension": ".py",
   "mimetype": "text/x-python",
   "name": "python",
   "nbconvert_exporter": "python",
   "pygments_lexer": "ipython3",
   "version": "3.6.5"
  }
 },
 "nbformat": 4,
 "nbformat_minor": 2
}
